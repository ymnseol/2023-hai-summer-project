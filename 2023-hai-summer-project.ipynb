{
 "cells": [
  {
   "cell_type": "code",
   "execution_count": 1,
   "metadata": {},
   "outputs": [],
   "source": [
    "import os\n",
    "import json\n",
    "import torch\n",
    "import wandb\n",
    "import pickle\n",
    "import random\n",
    "import evaluate\n",
    "import numpy as np\n",
    "import pandas as pd\n",
    "from datasets import (\n",
    "    Dataset,\n",
    "    DatasetDict,\n",
    "    load_from_disk,\n",
    ")\n",
    "from easydict import EasyDict\n",
    "from transformers import (\n",
    "    Trainer,\n",
    "    AutoTokenizer,\n",
    "    TrainingArguments,\n",
    "    DataCollatorWithPadding,\n",
    "    AutoModelForSequenceClassification,\n",
    ")\n",
    "\n",
    "EXPERIMENT_NAME = \"koelectra-dialect-v1-1e-05-32-5\""
   ]
  },
  {
   "cell_type": "code",
   "execution_count": 2,
   "metadata": {},
   "outputs": [],
   "source": [
    "def set_seeds(seed=random.randrange(1, 10000)):\n",
    "    random.seed(seed)\n",
    "    os.environ[\"PYTHONHASHSEED\"] = str(seed)\n",
    "    np.random.seed(seed)\n",
    "    torch.manual_seed(seed)\n",
    "    torch.cuda.manual_seed(seed)\n",
    "    torch.cuda.manual_seed_all(seed)\n",
    "    torch.backends.cudnn.deterministic = True\n",
    "    torch.backends.cudnn.benchmark = False"
   ]
  },
  {
   "cell_type": "code",
   "execution_count": 3,
   "metadata": {},
   "outputs": [],
   "source": [
    "# # 한 번 실행하여 데이터셋 변환 후에는 실행하지 말기\n",
    "# train_df = pd.read_csv(\"./train.csv\", index_col=\"idx\")\n",
    "# eval_df = pd.read_csv(\"./valid.csv\", index_col=\"idx\")\n",
    "# test_df = pd.read_csv(\"./test.csv\", index_col=\"idx\")\n",
    "\n",
    "# dataset = DatasetDict({\n",
    "#     \"train\": Dataset.from_pandas(train_df),\n",
    "#     \"evaluation\": Dataset.from_pandas(eval_df),\n",
    "#     \"test\": Dataset.from_pandas(test_df),\n",
    "# })\n",
    "# dataset.save_to_disk(\"./data/dialect-dataset\")"
   ]
  },
  {
   "cell_type": "code",
   "execution_count": 4,
   "metadata": {},
   "outputs": [],
   "source": [
    "def get_args():\n",
    "    with open(f\"./args/{EXPERIMENT_NAME}.json\") as f:\n",
    "        args = EasyDict(json.load(f))\n",
    "    assert EXPERIMENT_NAME == args.wandb_name, \"Please check whether the config file matches.\"\n",
    "    return args"
   ]
  },
  {
   "cell_type": "code",
   "execution_count": 5,
   "metadata": {},
   "outputs": [],
   "source": [
    "def compute_metrics(eval_preds):\n",
    "    metrics = evaluate.load(\"accuracy\")\n",
    "    logits, labels = eval_preds\n",
    "    predictions = np.argmax(logits, axis=-1)\n",
    "    return metrics.compute(predictions=predictions, references=labels)"
   ]
  },
  {
   "cell_type": "code",
   "execution_count": 14,
   "metadata": {},
   "outputs": [],
   "source": [
    "def main():\n",
    "    set_seeds(42)\n",
    "\n",
    "    args = get_args()\n",
    "\n",
    "    wandb.init(\n",
    "        project=args.wandb_project,\n",
    "        entity=args.wandb_entity,\n",
    "        name=args.wandb_name,\n",
    "        group=args.wandb_group,\n",
    "    )\n",
    "    wandb.config.update({\n",
    "        \"initial_learning_rate\": args.learning_rate,\n",
    "        \"num_epochs\": args.num_epochs,\n",
    "        \"batch_size\": args.batch_size,\n",
    "    })\n",
    "\n",
    "    model = AutoModelForSequenceClassification.from_pretrained(\n",
    "        pretrained_model_name_or_path=args.model_name_or_path,\n",
    "        num_labels=3,\n",
    "    )\n",
    "    tokenizer = AutoTokenizer.from_pretrained(\n",
    "        pretrained_model_name_or_path=args.tokenizer_name_or_path,\n",
    "    )\n",
    "    raw_dataset = load_from_disk(\"./data/dialect-dataset/\")\n",
    "    dataset = raw_dataset.map(\n",
    "        lambda data: tokenizer(\n",
    "            data[\"text\"],\n",
    "            truncation=True,\n",
    "            padding=\"max_length\",\n",
    "            max_length=args.max_token_length,\n",
    "        ),\n",
    "        batched=True,\n",
    "        remove_columns=[\"text\", \"idx\"],\n",
    "    )\n",
    "\n",
    "    data_collator = DataCollatorWithPadding(tokenizer=tokenizer)\n",
    "\n",
    "    training_args = TrainingArguments(\n",
    "        output_dir=args.output_dir,\n",
    "        # Hyperparameters\n",
    "        per_device_train_batch_size=args.batch_size,\n",
    "        per_device_eval_batch_size=1,\n",
    "        num_train_epochs=args.num_epochs,\n",
    "        learning_rate=args.learning_rate,\n",
    "        lr_scheduler_type=\"linear\",\n",
    "        warmup_ratio=0.5,\n",
    "        fp16=False,\n",
    "        # Logging & Evaluation\n",
    "        logging_strategy=\"epoch\",\n",
    "        evaluation_strategy=\"epoch\",\n",
    "        # Saving\n",
    "        save_strategy=\"epoch\",\n",
    "        save_total_limit=args.save_total_limit,\n",
    "        load_best_model_at_end=True,\n",
    "    )\n",
    "    trainer = Trainer(\n",
    "        model=model,\n",
    "        args=training_args,\n",
    "        train_dataset=dataset[\"train\"],\n",
    "        eval_dataset=dataset[\"evaluation\"],\n",
    "        tokenizer=tokenizer,\n",
    "        data_collator=data_collator,\n",
    "        compute_metrics=compute_metrics,\n",
    "    )\n",
    "    trainer.train()\n",
    "    trainer.evaluate()\n",
    "    trainer.save_model(output_dir=args.output_dir)\n",
    "\n",
    "    label = trainer.predict(dataset[\"test\"].remove_columns([\"label\"]))\n",
    "    result = pd.DataFrame()\n",
    "    result[\"idx\"] = raw_dataset[\"test\"][\"idx\"]\n",
    "    result[\"label\"] = label[0].argmax(axis=-1)\n",
    "    result.to_csv(f\"./submission/{EXPERIMENT_NAME}.csv\", index=False)"
   ]
  },
  {
   "cell_type": "code",
   "execution_count": null,
   "metadata": {},
   "outputs": [],
   "source": [
    "main()"
   ]
  },
  {
   "cell_type": "code",
   "execution_count": null,
   "metadata": {},
   "outputs": [],
   "source": []
  }
 ],
 "metadata": {
  "kernelspec": {
   "display_name": "boostcamp-ai-tech-4",
   "language": "python",
   "name": "python3"
  },
  "language_info": {
   "codemirror_mode": {
    "name": "ipython",
    "version": 3
   },
   "file_extension": ".py",
   "mimetype": "text/x-python",
   "name": "python",
   "nbconvert_exporter": "python",
   "pygments_lexer": "ipython3",
   "version": "3.8.13"
  },
  "orig_nbformat": 4
 },
 "nbformat": 4,
 "nbformat_minor": 2
}
